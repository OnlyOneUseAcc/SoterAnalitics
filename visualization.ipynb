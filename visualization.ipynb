{
 "cells": [
  {
   "cell_type": "code",
   "execution_count": 1,
   "metadata": {
    "collapsed": true
   },
   "outputs": [],
   "source": [
    "import pickle\n",
    "\n",
    "import matplotlib.pyplot as plt\n",
    "import numpy as np\n",
    "from sklearn.model_selection import train_test_split\n",
    "from sklearn.metrics import confusion_matrix, accuracy_score\n",
    "import seaborn as sns\n",
    "\n",
    "from data_utils import compare, split_series, resample_data, get_sequence_len\n",
    "from model_utils import build_model"
   ]
  },
  {
   "cell_type": "code",
   "execution_count": 2,
   "outputs": [],
   "source": [
    "np.random.seed(42)\n",
    "from tensorflow import keras as ks"
   ],
   "metadata": {
    "collapsed": false,
    "pycharm": {
     "name": "#%%\n"
    }
   }
  },
  {
   "cell_type": "code",
   "execution_count": 3,
   "outputs": [],
   "source": [
    "# data paths\n",
    "DATA_DIR = './data/'\n",
    "DATA_FILE = 'data.pickle'\n",
    "MODEL_DIR = './models/'\n",
    "\n",
    "seconds_per_sequence = 15"
   ],
   "metadata": {
    "collapsed": false,
    "pycharm": {
     "name": "#%%\n"
    }
   }
  },
  {
   "cell_type": "code",
   "execution_count": 4,
   "outputs": [],
   "source": [
    "with open(f'{DATA_DIR}{DATA_FILE}', 'rb') as data_file:\n",
    "    data = pickle.load(data_file)"
   ],
   "metadata": {
    "collapsed": false,
    "pycharm": {
     "name": "#%%\n"
    }
   }
  },
  {
   "cell_type": "code",
   "execution_count": 5,
   "outputs": [],
   "source": [
    "mask = compare(data[:, 0])\n",
    "data = np.append(data, np.zeros(dtype='int32',shape=(data.shape[0], 1)), 1)\n",
    "data[:, 4][mask] = 1"
   ],
   "metadata": {
    "collapsed": false,
    "pycharm": {
     "name": "#%%\n"
    }
   }
  },
  {
   "cell_type": "code",
   "execution_count": 6,
   "outputs": [],
   "source": [
    "sec_len = get_sequence_len(seconds_per_sequence)"
   ],
   "metadata": {
    "collapsed": false,
    "pycharm": {
     "name": "#%%\n"
    }
   }
  },
  {
   "cell_type": "code",
   "execution_count": 7,
   "outputs": [
    {
     "name": "stdout",
     "output_type": "stream",
     "text": [
      "By now we have 4074 time series with length 240\n"
     ]
    }
   ],
   "source": [
    "split_series_data = split_series(data, sec_len, 1)\n",
    "series_data, targets = resample_data(split_series_data[0], split_series_data[1])\n",
    "\n",
    "print(f'By now we have {series_data.shape[0]} time series with length {series_data.shape[1]}')\n",
    "\n",
    "x_train, x_test, y_train, y_test = train_test_split( series_data, targets)"
   ],
   "metadata": {
    "collapsed": false,
    "pycharm": {
     "name": "#%%\n"
    }
   }
  },
  {
   "cell_type": "code",
   "execution_count": 8,
   "outputs": [],
   "source": [
    "model = build_model(sec_len, 2)"
   ],
   "metadata": {
    "collapsed": false,
    "pycharm": {
     "name": "#%%\n"
    }
   }
  },
  {
   "cell_type": "code",
   "execution_count": 9,
   "outputs": [],
   "source": [
    "model.compile(\n",
    "    optimizer=\"adam\",\n",
    "    loss=\"binary_crossentropy\",\n",
    "    metrics=[ks.metrics.BinaryAccuracy()],\n",
    ")"
   ],
   "metadata": {
    "collapsed": false,
    "pycharm": {
     "name": "#%%\n"
    }
   }
  },
  {
   "cell_type": "code",
   "execution_count": 10,
   "outputs": [],
   "source": [
    "callbacks = [\n",
    "    ks.callbacks.ModelCheckpoint(\n",
    "        f\"{MODEL_DIR}best_model.h5\", save_best_only=True, monitor=\"val_loss\"\n",
    "    ),\n",
    "    ks.callbacks.EarlyStopping(monitor=\"val_loss\", patience=10, verbose=1),\n",
    "]"
   ],
   "metadata": {
    "collapsed": false,
    "pycharm": {
     "name": "#%%\n"
    }
   }
  },
  {
   "cell_type": "code",
   "execution_count": 11,
   "outputs": [],
   "source": [
    "history = model.fit(\n",
    "    [\n",
    "        x_train[:, :, 1].reshape(-1, sec_len, 1),\n",
    "        x_train[:, :, 2].reshape(-1, sec_len, 1),\n",
    "        x_train[:, :, 3].reshape(-1, sec_len, 1)\n",
    "    ],\n",
    "    ks.utils.to_categorical(y_train, 2),\n",
    "    batch_size=8,\n",
    "    epochs=40,\n",
    "    validation_split=0.2,\n",
    "    verbose=0,\n",
    "    callbacks=callbacks,\n",
    "    shuffle=True\n",
    ")"
   ],
   "metadata": {
    "collapsed": false,
    "pycharm": {
     "name": "#%%\n"
    }
   }
  },
  {
   "cell_type": "code",
   "execution_count": 12,
   "outputs": [],
   "source": [
    "prediction = np.argmax(\n",
    "    model.predict([\n",
    "        x_test[:, :, 1].reshape(-1, sec_len, 1),\n",
    "        x_test[:, :, 2].reshape(-1, sec_len, 1),\n",
    "        x_test[:, :, 3].reshape(-1, sec_len, 1)\n",
    "]), axis=1)"
   ],
   "metadata": {
    "collapsed": false,
    "pycharm": {
     "name": "#%%\n"
    }
   }
  },
  {
   "cell_type": "code",
   "execution_count": 13,
   "outputs": [
    {
     "data": {
      "text/plain": "<Figure size 432x288 with 2 Axes>",
      "image/png": "[encoded data removed]"
     },
     "metadata": {
      "needs_background": "light"
     },
     "output_type": "display_data"
    }
   ],
   "source": [
    "cf_matrix = confusion_matrix(y_true=y_test, y_pred=prediction)\n",
    "sns.heatmap(cf_matrix / np.sum(cf_matrix), annot=True, fmt='.2%')\n",
    "plt.show()"
   ],
   "metadata": {
    "collapsed": false,
    "pycharm": {
     "name": "#%%\n"
    }
   }
  },
  {
   "cell_type": "code",
   "execution_count": 14,
   "outputs": [
    {
     "data": {
      "text/plain": "0.9489695780176644"
     },
     "execution_count": 14,
     "metadata": {},
     "output_type": "execute_result"
    }
   ],
   "source": [
    "accuracy_score(y_true=y_test, y_pred=prediction)"
   ],
   "metadata": {
    "collapsed": false,
    "pycharm": {
     "name": "#%%\n"
    }
   }
  }
 ],
 "metadata": {
  "kernelspec": {
   "display_name": "Python 3",
   "language": "python",
   "name": "python3"
  },
  "language_info": {
   "codemirror_mode": {
    "name": "ipython",
    "version": 2
   },
   "file_extension": ".py",
   "mimetype": "text/x-python",
   "name": "python",
   "nbconvert_exporter": "python",
   "pygments_lexer": "ipython2",
   "version": "2.7.6"
  }
 },
 "nbformat": 4,
 "nbformat_minor": 0
}